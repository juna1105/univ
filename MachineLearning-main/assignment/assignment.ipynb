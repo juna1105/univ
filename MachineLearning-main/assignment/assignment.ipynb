{
 "cells": [
  {
   "cell_type": "code",
   "execution_count": 2,
   "metadata": {},
   "outputs": [],
   "source": [
    "import pandas as pd\n",
    "\n",
    "# 1. 딕셔너리를 이용하여 데이터프레임 생성\n",
    "data = {\n",
    "    '학번': [202303, 202405, 202407, 202409],\n",
    "    '이름': ['오지환', '박용택', '정성훈', '다니엘'],\n",
    "    '트랙': ['데이터', '데이터', '데이터', '생산'],\n",
    "    'Quiz': [15, 20, 10, 17],\n",
    "    '중간고사': [20, 20, 15, 18]\n",
    "}\n",
    "df = pd.DataFrame(data)\n"
   ]
  },
  {
   "cell_type": "code",
   "execution_count": 3,
   "metadata": {},
   "outputs": [
    {
     "name": "stdout",
     "output_type": "stream",
     "text": [
      "이름과 중간고사 점수:\n",
      "     이름  중간고사\n",
      "0  오지환    20\n",
      "1  박용택    20\n",
      "2  정성훈    15\n",
      "3  다니엘    18\n"
     ]
    }
   ],
   "source": [
    "# 2. 이름과 중간고사를 추출\n",
    "name_midterm = df[['이름', '중간고사']]\n",
    "print(\"이름과 중간고사 점수:\\n\", name_midterm)"
   ]
  },
  {
   "cell_type": "code",
   "execution_count": 4,
   "metadata": {},
   "outputs": [
    {
     "name": "stdout",
     "output_type": "stream",
     "text": [
      "\n",
      "Reindexed DataFrame:\n",
      "        학번   이름   트랙  Quiz  중간고사\n",
      "2  202407  정성훈  데이터    10    15\n",
      "0  202303  오지환  데이터    15    20\n",
      "3  202409  다니엘   생산    17    18\n",
      "1  202405  박용택  데이터    20    20\n"
     ]
    }
   ],
   "source": [
    "# 3. reindex를 이용하여 순서 변경\n",
    "df_reindexed = df.reindex(index=[2, 0, 3, 1])\n",
    "print(\"\\nReindexed DataFrame:\\n\", df_reindexed)"
   ]
  },
  {
   "cell_type": "code",
   "execution_count": 5,
   "metadata": {},
   "outputs": [
    {
     "name": "stdout",
     "output_type": "stream",
     "text": [
      "\n",
      "박용택의 iloc record:\n",
      " 학번      202405\n",
      "이름         박용택\n",
      "트랙         데이터\n",
      "Quiz        20\n",
      "중간고사        20\n",
      "Name: 1, dtype: object\n",
      "\n",
      "박용택의 loc record:\n",
      " 학번      202405\n",
      "이름         박용택\n",
      "트랙         데이터\n",
      "Quiz        20\n",
      "중간고사        20\n",
      "Name: 1, dtype: object\n"
     ]
    }
   ],
   "source": [
    "# 4. iloc과 loc을 이용하여 박용택의 record 추출\n",
    "park_record_iloc = df_reindexed.iloc[3]\n",
    "park_record_loc = df_reindexed.loc[1]\n",
    "print(\"\\n박용택의 iloc record:\\n\", park_record_iloc)\n",
    "print(\"\\n박용택의 loc record:\\n\", park_record_loc)"
   ]
  },
  {
   "cell_type": "code",
   "execution_count": 6,
   "metadata": {},
   "outputs": [
    {
     "name": "stdout",
     "output_type": "stream",
     "text": [
      "\n",
      "모든 학생의 이름과 중간고사 점수 (iloc):\n",
      "     이름  중간고사\n",
      "2  정성훈    15\n",
      "0  오지환    20\n",
      "3  다니엘    18\n",
      "1  박용택    20\n",
      "\n",
      "모든 학생의 이름과 중간고사 점수 (loc):\n",
      "     이름  중간고사\n",
      "2  정성훈    15\n",
      "0  오지환    20\n",
      "3  다니엘    18\n",
      "1  박용택    20\n"
     ]
    }
   ],
   "source": [
    "# 5. iloc과 loc을 이용하여 모든 학생의 이름과 중간고사 점수 추출\n",
    "names_midterms_iloc = df_reindexed.iloc[:, [1, 4]]\n",
    "names_midterms_loc = df_reindexed.loc[:, ['이름', '중간고사']]\n",
    "print(\"\\n모든 학생의 이름과 중간고사 점수 (iloc):\\n\", names_midterms_iloc)\n",
    "print(\"\\n모든 학생의 이름과 중간고사 점수 (loc):\\n\", names_midterms_loc)"
   ]
  },
  {
   "cell_type": "code",
   "execution_count": 7,
   "metadata": {},
   "outputs": [
    {
     "name": "stdout",
     "output_type": "stream",
     "text": [
      "\n",
      "중간고사 점수의 평균: 18.25\n"
     ]
    }
   ],
   "source": [
    "# 6. 중간고사 점수의 평균\n",
    "midterm_mean = df['중간고사'].mean()\n",
    "print(\"\\n중간고사 점수의 평균:\", midterm_mean)"
   ]
  },
  {
   "cell_type": "code",
   "execution_count": 8,
   "metadata": {},
   "outputs": [
    {
     "name": "stdout",
     "output_type": "stream",
     "text": [
      "\n",
      "중간고사 점수가 가장 낮은 학생의 index: 2\n"
     ]
    }
   ],
   "source": [
    "# 7. 중간고사 점수가 가장 낮은 학생의 index\n",
    "lowest_midterm_index = df['중간고사'].idxmin()\n",
    "print(\"\\n중간고사 점수가 가장 낮은 학생의 index:\", lowest_midterm_index)"
   ]
  },
  {
   "cell_type": "code",
   "execution_count": 9,
   "metadata": {},
   "outputs": [
    {
     "name": "stdout",
     "output_type": "stream",
     "text": [
      "\n",
      "퀴즈 점수가 가장 높은 학생의 학번: 202405\n"
     ]
    }
   ],
   "source": [
    "# 8. 퀴즈 점수가 가장 높은 학생의 학번\n",
    "highest_quiz_student_id = df['학번'][df['Quiz'].idxmax()]\n",
    "print(\"\\n퀴즈 점수가 가장 높은 학생의 학번:\", highest_quiz_student_id)"
   ]
  },
  {
   "cell_type": "code",
   "execution_count": 10,
   "metadata": {},
   "outputs": [
    {
     "name": "stdout",
     "output_type": "stream",
     "text": [
      "\n",
      "데이터프레임의 통계량:\n",
      "                   학번       Quiz       중간고사\n",
      "count       4.000000   4.000000   4.000000\n",
      "mean   202381.000000  15.500000  18.250000\n",
      "std        52.025635   4.203173   2.362908\n",
      "min    202303.000000  10.000000  15.000000\n",
      "25%    202379.500000  13.750000  17.250000\n",
      "50%    202406.000000  16.000000  19.000000\n",
      "75%    202407.500000  17.750000  20.000000\n",
      "max    202409.000000  20.000000  20.000000\n"
     ]
    }
   ],
   "source": [
    "# 9. 다양한 통계량 출력\n",
    "stats = df.describe()\n",
    "print(\"\\n데이터프레임의 통계량:\\n\", stats)\n"
   ]
  },
  {
   "cell_type": "code",
   "execution_count": 11,
   "metadata": {},
   "outputs": [
    {
     "name": "stdout",
     "output_type": "stream",
     "text": [
      "\n",
      "중간고사 점수 내림차순 정렬:\n",
      "        학번   이름   트랙  Quiz  중간고사\n",
      "0  202303  오지환  데이터    15    20\n",
      "1  202405  박용택  데이터    20    20\n",
      "3  202409  다니엘   생산    17    18\n",
      "2  202407  정성훈  데이터    10    15\n"
     ]
    }
   ],
   "source": [
    "\n",
    "# 10. 중간고사 점수에 따라 내림차순으로 정렬\n",
    "sorted_df = df.sort_values(by='중간고사', ascending=False)\n",
    "print(\"\\n중간고사 점수 내림차순 정렬:\\n\", sorted_df)\n"
   ]
  },
  {
   "cell_type": "code",
   "execution_count": 12,
   "metadata": {},
   "outputs": [
    {
     "name": "stdout",
     "output_type": "stream",
     "text": [
      "\n",
      "퀴즈 점수가 평균 이상인 학생들의 이름:\n",
      " 1    박용택\n",
      "3    다니엘\n",
      "Name: 이름, dtype: object\n"
     ]
    }
   ],
   "source": [
    "\n",
    "# 11. 퀴즈 점수가 평균 이상인 학생들의 이름\n",
    "avg_quiz = df['Quiz'].mean()\n",
    "high_quiz_names = df['이름'][df['Quiz'] >= avg_quiz]\n",
    "print(\"\\n퀴즈 점수가 평균 이상인 학생들의 이름:\\n\", high_quiz_names)\n"
   ]
  },
  {
   "cell_type": "code",
   "execution_count": 13,
   "metadata": {},
   "outputs": [
    {
     "name": "stdout",
     "output_type": "stream",
     "text": [
      "\n",
      "퀴즈와 중간고사 점수가 모두 평균 이상인 학생들의 record:\n",
      "        학번   이름   트랙  Quiz  중간고사\n",
      "1  202405  박용택  데이터    20    20\n"
     ]
    }
   ],
   "source": [
    "\n",
    "# 12. 퀴즈와 중간고사 점수 모두 평균 이상인 학생들의 record\n",
    "avg_midterm = df['중간고사'].mean()\n",
    "high_scores_students = df[(df['Quiz'] >= avg_quiz) & (df['중간고사'] >= avg_midterm)]\n",
    "print(\"\\n퀴즈와 중간고사 점수가 모두 평균 이상인 학생들의 record:\\n\", high_scores_students)\n"
   ]
  },
  {
   "cell_type": "code",
   "execution_count": 14,
   "metadata": {},
   "outputs": [
    {
     "name": "stdout",
     "output_type": "stream",
     "text": [
      "\n",
      "학과 별로 학생의 수:\n",
      " 트랙\n",
      "데이터    3\n",
      "생산     1\n",
      "Name: count, dtype: int64\n"
     ]
    }
   ],
   "source": [
    "\n",
    "# 13. value_counts를 이용하여 학과 별로 학생의 수 구하기\n",
    "department_counts = df['트랙'].value_counts()\n",
    "print(\"\\n학과 별로 학생의 수:\\n\", department_counts)\n"
   ]
  },
  {
   "cell_type": "code",
   "execution_count": 15,
   "metadata": {},
   "outputs": [
    {
     "name": "stdout",
     "output_type": "stream",
     "text": [
      "\n",
      "학과 별 중간고사 평균:\n",
      " 트랙\n",
      "데이터    18.333333\n",
      "생산     18.000000\n",
      "Name: 중간고사, dtype: float64\n"
     ]
    }
   ],
   "source": [
    "\n",
    "# 14. groupby를 이용하여 학과 별로 중간고사의 평균 구하기\n",
    "midterm_mean_by_department = df.groupby('트랙')['중간고사'].mean()\n",
    "print(\"\\n학과 별 중간고사 평균:\\n\", midterm_mean_by_department)"
   ]
  }
 ],
 "metadata": {
  "kernelspec": {
   "display_name": "Python 3",
   "language": "python",
   "name": "python3"
  },
  "language_info": {
   "codemirror_mode": {
    "name": "ipython",
    "version": 3
   },
   "file_extension": ".py",
   "mimetype": "text/x-python",
   "name": "python",
   "nbconvert_exporter": "python",
   "pygments_lexer": "ipython3",
   "version": "3.12.3"
  }
 },
 "nbformat": 4,
 "nbformat_minor": 2
}
